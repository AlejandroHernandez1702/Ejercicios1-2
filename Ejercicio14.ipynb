{
  "nbformat": 4,
  "nbformat_minor": 0,
  "metadata": {
    "colab": {
      "provenance": [],
      "authorship_tag": "ABX9TyOIw7rfQn6aqdVnA66txm9s",
      "include_colab_link": true
    },
    "kernelspec": {
      "name": "python3",
      "display_name": "Python 3"
    },
    "language_info": {
      "name": "python"
    }
  },
  "cells": [
    {
      "cell_type": "markdown",
      "metadata": {
        "id": "view-in-github",
        "colab_type": "text"
      },
      "source": [
        "<a href=\"https://colab.research.google.com/github/AlejandroHernandez1702/Ejercicios1-2/blob/main/Ejercicio14.ipynb\" target=\"_parent\"><img src=\"https://colab.research.google.com/assets/colab-badge.svg\" alt=\"Open In Colab\"/></a>"
      ]
    },
    {
      "cell_type": "code",
      "execution_count": 1,
      "metadata": {
        "colab": {
          "base_uri": "https://localhost:8080/"
        },
        "id": "9TCHtUkJnOJh",
        "outputId": "9a01b350-d2ae-45f9-a395-58f834b880c4"
      },
      "outputs": [
        {
          "output_type": "stream",
          "name": "stdout",
          "text": [
            "Ingrese la cantidad de matrices que desea sumar: 2\n",
            "Ingrese la cantidad de filas para la matriz 1: 2\n",
            "Ingrese la cantidad de columnas para la matriz 1: 1\n",
            "Ingrese el valor para la posición (1, 1) de la matriz: 1\n",
            "Ingrese el valor para la posición (2, 1) de la matriz: 2\n",
            "Ingrese la cantidad de filas para la matriz 2: 1\n",
            "Ingrese la cantidad de columnas para la matriz 2: 1\n",
            "Ingrese el valor para la posición (1, 1) de la matriz: 2\n",
            "Matriz 1\n",
            "3\t\n",
            "2\t\n",
            "+\n",
            "Matriz 2\n",
            "2\t\n",
            "=\n",
            "Matriz Resultante\n",
            "3\t\n",
            "2\t\n"
          ]
        }
      ],
      "source": [
        "def solicitar_entero(mensaje):\n",
        "    while True:\n",
        "        try:\n",
        "            valor = int(input(mensaje))\n",
        "            return valor\n",
        "        except ValueError:\n",
        "            print(\"Por favor, ingrese un número entero válido.\")\n",
        "\n",
        "def crear_matriz(filas, columnas):\n",
        "    matriz = []\n",
        "    for i in range(filas):\n",
        "        fila = []\n",
        "        for j in range(columnas):\n",
        "            valor = solicitar_entero(f\"Ingrese el valor para la posición ({i+1}, {j+1}) de la matriz: \")\n",
        "            fila.append(valor)\n",
        "        matriz.append(fila)\n",
        "    return matriz\n",
        "\n",
        "def mostrar_matriz(matriz, titulo=\"Matriz\"):\n",
        "    print(titulo)\n",
        "    for fila in matriz:\n",
        "        for valor in fila:\n",
        "            print(valor, end=\"\\t\")\n",
        "        print()\n",
        "\n",
        "def sumar_matrices(matrices):\n",
        "    resultado = matrices[0]\n",
        "    for i in range(1, len(matrices)):\n",
        "        for fila in range(len(matrices[i])):\n",
        "            for columna in range(len(matrices[i][0])):\n",
        "                resultado[fila][columna] += matrices[i][fila][columna]\n",
        "    return resultado\n",
        "\n",
        "if __name__ == \"__main__\":\n",
        "    cantidad_matrices = solicitar_entero(\"Ingrese la cantidad de matrices que desea sumar: \")\n",
        "\n",
        "    if cantidad_matrices < 2:\n",
        "        print(\"Debe ingresar al menos dos matrices para la suma.\")\n",
        "    else:\n",
        "        matrices = []\n",
        "\n",
        "        for i in range(cantidad_matrices):\n",
        "            filas = solicitar_entero(f\"Ingrese la cantidad de filas para la matriz {i + 1}: \")\n",
        "            columnas = solicitar_entero(f\"Ingrese la cantidad de columnas para la matriz {i + 1}: \")\n",
        "            matriz = crear_matriz(filas, columnas)\n",
        "            matrices.append(matriz)\n",
        "\n",
        "        resultado = sumar_matrices(matrices)\n",
        "\n",
        "        for i, matriz in enumerate(matrices):\n",
        "            mostrar_matriz(matriz, f\"Matriz {i + 1}\")\n",
        "            if i < len(matrices) - 1:\n",
        "                print(\"+\")\n",
        "        print(\"=\")\n",
        "        mostrar_matriz(resultado, \"Matriz Resultante\")\n"
      ]
    }
  ]
}