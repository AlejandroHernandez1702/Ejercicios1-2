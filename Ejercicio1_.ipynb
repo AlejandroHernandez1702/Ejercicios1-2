{
  "nbformat": 4,
  "nbformat_minor": 0,
  "metadata": {
    "colab": {
      "provenance": [],
      "authorship_tag": "ABX9TyPi+LFCMbGXVgy4FXsn+AcZ",
      "include_colab_link": true
    },
    "kernelspec": {
      "name": "python3",
      "display_name": "Python 3"
    },
    "language_info": {
      "name": "python"
    }
  },
  "cells": [
    {
      "cell_type": "markdown",
      "metadata": {
        "id": "view-in-github",
        "colab_type": "text"
      },
      "source": [
        "<a href=\"https://colab.research.google.com/github/AlejandroHernandez1702/Ejercicios1-2/blob/main/Ejercicio1_.ipynb\" target=\"_parent\"><img src=\"https://colab.research.google.com/assets/colab-badge.svg\" alt=\"Open In Colab\"/></a>"
      ]
    },
    {
      "cell_type": "code",
      "execution_count": null,
      "metadata": {
        "colab": {
          "base_uri": "https://localhost:8080/"
        },
        "id": "oHFoCP6h4N5O",
        "outputId": "b41a0d81-fd88-49c4-b3c8-0d94155cacf8"
      },
      "outputs": [
        {
          "output_type": "stream",
          "name": "stdout",
          "text": [
            "Cual es su nombre: Manuel\n",
            "\n",
            "Digite la clave del departamento\n",
            "1. Atención al cliente\n",
            "2. Logística\n",
            "3. Gerencia\n",
            "= 1\n",
            "\n",
            "Coloca los  años de antiguedad en la empresa: 2\n",
            "\n",
            "Tiene derecho a 14 días de vacaciones\n"
          ]
        }
      ],
      "source": [
        "nombre = input(\"Cual es su nombre: \")\n",
        "clave = int(input(\"\\nDigite la clave del departamento\\n1. Atención al cliente\\n2. Logística\\n3. Gerencia\\n= \"))\n",
        "antiguedad = int(input(\"\\nColoca los  años de antiguedad en la empresa: \"))\n",
        "\n",
        "if clave == 1 and antiguedad == 1:\n",
        "    print(\"\\nTiene derecho a 6 días de vacaciones\")\n",
        "\n",
        "elif clave == 1 and 2 <= antiguedad <= 6:\n",
        "    print(\"\\nTiene derecho a 14 días de vacaciones\")\n",
        "\n",
        "elif clave == 1 and antiguedad >= 7:\n",
        "    print(\"\\nTiene derecho a 20 días de vacaciones\")\n",
        "\n",
        "if clave == 2 and antiguedad == 1:\n",
        "    print(\"\\nTiene derecho a 7 días de vacaciones\")\n",
        "\n",
        "elif clave == 2 and 2 <= antiguedad <= 6:\n",
        "    print(\"\\nTiene derecho a 15 días de vacaciones\")\n",
        "\n",
        "elif clave == 2 and antiguedad >= 7:\n",
        "    print(\"\\nTiene derecho a 22 días de vacaciones\")\n",
        "\n",
        "if clave == 3 and antiguedad == 1:\n",
        "    print(\"\\nTiene derecho a 10 dias de vacaciones\")\n",
        "\n",
        "elif clave == 3 and 2 <= antiguedad <= 6:\n",
        "    print(\"\\nTiene derecho a 20 dias de vacaciones\")\n",
        "\n",
        "elif clave == 3 and antiguedad >= 7:\n",
        "    print(\"\\nTiene derecho a 30 dias de vacaciones\")"
      ]
    }
  ]
}