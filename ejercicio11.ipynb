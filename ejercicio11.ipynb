{
  "nbformat": 4,
  "nbformat_minor": 0,
  "metadata": {
    "colab": {
      "provenance": [],
      "authorship_tag": "ABX9TyNllLN7RGtGqveGHT5RWTnt",
      "include_colab_link": true
    },
    "kernelspec": {
      "name": "python3",
      "display_name": "Python 3"
    },
    "language_info": {
      "name": "python"
    }
  },
  "cells": [
    {
      "cell_type": "markdown",
      "metadata": {
        "id": "view-in-github",
        "colab_type": "text"
      },
      "source": [
        "<a href=\"https://colab.research.google.com/github/AlejandroHernandez1702/Ejercicios1-2/blob/main/ejercicio11.ipynb\" target=\"_parent\"><img src=\"https://colab.research.google.com/assets/colab-badge.svg\" alt=\"Open In Colab\"/></a>"
      ]
    },
    {
      "cell_type": "code",
      "execution_count": null,
      "metadata": {
        "id": "7xIA756SiAsv"
      },
      "outputs": [],
      "source": [
        "lista = [\"A\", \"B\", \"b\", \"c\", \"E\", \"E\", \"f\"]\n",
        "elemento_a_eliminar = input(\"Introduce el elemento que deseas eliminar: \")\n",
        "elemento_a_eliminar = elemento_a_eliminar.lower()\n",
        "nueva_lista = [elemento for elemento in lista if elemento.lower() != elemento_a_eliminar]\n",
        "\n",
        "if nueva_lista == lista:\n",
        "    print(\"El elemento no se encontró en la lista.\")\n",
        "else:\n",
        "    print(\"Elemento eliminado:\", elemento_a_eliminar)\n",
        "    print(\"Nueva lista:\", nueva_lista)\n"
      ]
    }
  ]
}