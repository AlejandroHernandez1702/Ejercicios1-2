{
  "nbformat": 4,
  "nbformat_minor": 0,
  "metadata": {
    "colab": {
      "provenance": [],
      "authorship_tag": "ABX9TyMz+6oTs94GS8m1+DOwEeuL",
      "include_colab_link": true
    },
    "kernelspec": {
      "name": "python3",
      "display_name": "Python 3"
    },
    "language_info": {
      "name": "python"
    }
  },
  "cells": [
    {
      "cell_type": "markdown",
      "metadata": {
        "id": "view-in-github",
        "colab_type": "text"
      },
      "source": [
        "<a href=\"https://colab.research.google.com/github/AlejandroHernandez1702/Ejercicios1-2/blob/main/Ejercicio_4.ipynb\" target=\"_parent\"><img src=\"https://colab.research.google.com/assets/colab-badge.svg\" alt=\"Open In Colab\"/></a>"
      ]
    },
    {
      "cell_type": "code",
      "execution_count": null,
      "metadata": {
        "id": "EbRPrsAf0HzP"
      },
      "outputs": [],
      "source": [
        "def suma(a, b):\n",
        "    return int(a + b)\n",
        "\n",
        "def resta(a, b):\n",
        "    return int(a - b)\n",
        "\n",
        "def multiplicacion(a, b):\n",
        "    return int(a * b)\n",
        "\n",
        "def division_entera(a, b):\n",
        "    if b == 0:\n",
        "        return \"Error: No se puede dividir por cero\"\n",
        "    return int(a // b)\n",
        "\n",
        "def exponente(a, b):\n",
        "    return int(a ** b)\n",
        "\n",
        "def modulo(a, b):\n",
        "    if b == 0:\n",
        "        return \"Error: No se puede obtener el módulo por cero\"\n",
        "    return int(a % b)\n",
        "\n",
        "while True:\n",
        "    print(\"Calculadora:\")\n",
        "    print(\"1. Suma\")\n",
        "    print(\"2. Resta\")\n",
        "    print(\"3. Multiplicación\")\n",
        "    print(\"4. División\")\n",
        "    print(\"5. División Entero\")\n",
        "    print(\"6. Exponente\")\n",
        "    print(\"7. Módulo\")\n",
        "    print(\"8. Salir\")\n",
        "\n",
        "    opcion = input(\"Seleccione una operación: \")\n",
        "\n",
        "    if opcion == \"8\":\n",
        "        break\n",
        "\n",
        "    if opcion not in [\"1\", \"2\", \"3\", \"4\", \"5\", \"6\", \"7\"]:\n",
        "        print(\"Opción no válida\")\n",
        "        continue\n",
        "\n",
        "    try:\n",
        "        num1 = float(input(\"Ingrese el primer valor: \"))\n",
        "        num2 = float(input(\"Ingrese el segundo valor: \"))\n",
        "    except ValueError:\n",
        "        print(\"Entrada no válida. Ingrese números válidos.\")\n",
        "        continue\n",
        "\n",
        "    if opcion == \"4\" and num2 == 0:\n",
        "        print(\"Error: No se puede dividir por cero\")\n",
        "        continue\n",
        "\n",
        "    if opcion == \"7\" and num2 == 0:\n",
        "        print(\"Error: No se puede obtener el módulo por cero\")\n",
        "        continue\n",
        "\n",
        "    if opcion == \"1\":\n",
        "        resultado = suma(num1, num2)\n",
        "    elif opcion == \"2\":\n",
        "        resultado = resta(num1, num2)\n",
        "    elif opcion == \"3\":\n",
        "        resultado = multiplicacion(num1, num2)\n",
        "    elif opcion == \"4\":\n",
        "        resultado = num1 / num2\n",
        "    elif opcion == \"5\":\n",
        "        resultado = division_entera(num1, num2)\n",
        "    elif opcion == \"6\":\n",
        "        resultado = exponente(num1, num2)\n",
        "    elif opcion == \"7\":\n",
        "        resultado = modulo(num1, num2)\n",
        "\n",
        "    print(\"Resultado:\", resultado)"
      ]
    },
    {
      "cell_type": "code",
      "source": [],
      "metadata": {
        "id": "uBKuUgOH1jhM"
      },
      "execution_count": null,
      "outputs": []
    }
  ]
}