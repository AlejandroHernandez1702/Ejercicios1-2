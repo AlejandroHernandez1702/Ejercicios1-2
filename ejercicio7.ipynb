{
  "nbformat": 4,
  "nbformat_minor": 0,
  "metadata": {
    "colab": {
      "provenance": [],
      "authorship_tag": "ABX9TyPib4UzK74leWpvNCvHZMwO",
      "include_colab_link": true
    },
    "kernelspec": {
      "name": "python3",
      "display_name": "Python 3"
    },
    "language_info": {
      "name": "python"
    }
  },
  "cells": [
    {
      "cell_type": "markdown",
      "metadata": {
        "id": "view-in-github",
        "colab_type": "text"
      },
      "source": [
        "<a href=\"https://colab.research.google.com/github/AlejandroHernandez1702/Ejercicios1-2/blob/main/ejercicio7.ipynb\" target=\"_parent\"><img src=\"https://colab.research.google.com/assets/colab-badge.svg\" alt=\"Open In Colab\"/></a>"
      ]
    },
    {
      "cell_type": "code",
      "execution_count": 1,
      "metadata": {
        "colab": {
          "base_uri": "https://localhost:8080/"
        },
        "id": "4w40Dv3eAZzt",
        "outputId": "23af4c2b-e675-46e1-c649-538219236ed5"
      },
      "outputs": [
        {
          "output_type": "stream",
          "name": "stdout",
          "text": [
            "Ingrese una cadena de caracteres: hola\n",
            "Cadena invertida: aloh\n"
          ]
        }
      ],
      "source": [
        "cadena_original = input(\"Ingrese una cadena de caracteres: \")\n",
        "cadena_invertida = \"\"\n",
        "\n",
        "for i in range(len(cadena_original) - 1, -1, -1):\n",
        "    cadena_invertida += cadena_original[i]\n",
        "print(\"Cadena invertida:\", cadena_invertida)\n"
      ]
    }
  ]
}