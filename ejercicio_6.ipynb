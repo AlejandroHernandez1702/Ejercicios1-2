{
  "nbformat": 4,
  "nbformat_minor": 0,
  "metadata": {
    "colab": {
      "provenance": [],
      "authorship_tag": "ABX9TyOfnnBX8J0xM9IKSYchN5bI",
      "include_colab_link": true
    },
    "kernelspec": {
      "name": "python3",
      "display_name": "Python 3"
    },
    "language_info": {
      "name": "python"
    }
  },
  "cells": [
    {
      "cell_type": "markdown",
      "metadata": {
        "id": "view-in-github",
        "colab_type": "text"
      },
      "source": [
        "<a href=\"https://colab.research.google.com/github/AlejandroHernandez1702/Ejercicios1-2/blob/main/ejercicio_6.ipynb\" target=\"_parent\"><img src=\"https://colab.research.google.com/assets/colab-badge.svg\" alt=\"Open In Colab\"/></a>"
      ]
    },
    {
      "cell_type": "code",
      "source": [
        "cadena = input(\"Ingrese una cadena de caracteres: \")\n",
        "palabra_eliminar = input(\"Ingrese la palabra que desea eliminar: \")\n",
        "\n",
        "if palabra_eliminar in cadena:\n",
        "  cadena = cadena.replace(palabra_eliminar, '')\n",
        "  print(\"Cadena resultante:\", cadena)\n",
        "else:\n",
        "    print(\"La palabra a eliminar no se encontró .\")"
      ],
      "metadata": {
        "colab": {
          "base_uri": "https://localhost:8080/"
        },
        "id": "YHvWEyxBAAyu",
        "outputId": "386e5b33-55fb-4ba4-9ce2-48f9d3f1dd51"
      },
      "execution_count": 2,
      "outputs": [
        {
          "output_type": "stream",
          "name": "stdout",
          "text": [
            "Ingrese una cadena de caracteres: hola\n",
            "Ingrese la palabra que desea eliminar: h\n",
            "Cadena resultante: ola\n"
          ]
        }
      ]
    }
  ]
}