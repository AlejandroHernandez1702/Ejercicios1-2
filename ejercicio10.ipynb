{
  "nbformat": 4,
  "nbformat_minor": 0,
  "metadata": {
    "colab": {
      "provenance": [],
      "authorship_tag": "ABX9TyOyBlXUg2NUxuKiLwqomoA1",
      "include_colab_link": true
    },
    "kernelspec": {
      "name": "python3",
      "display_name": "Python 3"
    },
    "language_info": {
      "name": "python"
    }
  },
  "cells": [
    {
      "cell_type": "markdown",
      "metadata": {
        "id": "view-in-github",
        "colab_type": "text"
      },
      "source": [
        "<a href=\"https://colab.research.google.com/github/AlejandroHernandez1702/Ejercicios1-2/blob/main/ejercicio10.ipynb\" target=\"_parent\"><img src=\"https://colab.research.google.com/assets/colab-badge.svg\" alt=\"Open In Colab\"/></a>"
      ]
    },
    {
      "cell_type": "code",
      "execution_count": null,
      "metadata": {
        "id": "_RbnWK5qo29G"
      },
      "outputs": [],
      "source": [
        "longitud = int(input(\"Ingrese la longitud de la lista: \"))\n",
        "lista_enteros = []\n",
        "\n",
        "for i in range(longitud):\n",
        "    elemento = int(input(f\"Ingrese el elemento {i + 1}: \"))\n",
        "    lista_enteros.append(elemento)\n",
        "\n",
        "suma = sum(lista_enteros)\n",
        "\n",
        "print(\"La lista de enteros ingresada es:\", lista_enteros)\n",
        "print(\"La suma de los elementos es:\", suma)\n",
        "\n"
      ]
    }
  ]
}