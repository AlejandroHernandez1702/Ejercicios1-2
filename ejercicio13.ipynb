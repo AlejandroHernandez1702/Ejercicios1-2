{
  "nbformat": 4,
  "nbformat_minor": 0,
  "metadata": {
    "colab": {
      "provenance": [],
      "authorship_tag": "ABX9TyPSqNk5EupEFIBiIuD+dkM/",
      "include_colab_link": true
    },
    "kernelspec": {
      "name": "python3",
      "display_name": "Python 3"
    },
    "language_info": {
      "name": "python"
    }
  },
  "cells": [
    {
      "cell_type": "markdown",
      "metadata": {
        "id": "view-in-github",
        "colab_type": "text"
      },
      "source": [
        "<a href=\"https://colab.research.google.com/github/AlejandroHernandez1702/Ejercicios1-2/blob/main/ejercicio13.ipynb\" target=\"_parent\"><img src=\"https://colab.research.google.com/assets/colab-badge.svg\" alt=\"Open In Colab\"/></a>"
      ]
    },
    {
      "cell_type": "code",
      "execution_count": null,
      "metadata": {
        "id": "l11c72f4lEe0"
      },
      "outputs": [],
      "source": [
        "def crear_matriz():\n",
        "    filas = int(input(\"Ingrese el número de filas: \"))\n",
        "    columnas = int(input(\"Ingrese el número de columnas: \"))\n",
        "    matriz = []\n",
        "\n",
        "    for i in range(filas):\n",
        "        fila = []\n",
        "        for j in range(columnas):\n",
        "            valor = int(input(f\"Ingrese el valor para la posición ({i+1}, {j+1}): \"))\n",
        "            fila.append(valor)\n",
        "        matriz.append(fila)\n",
        "\n",
        "    return matriz\n",
        "\n",
        "def mostrar_matriz(matriz):\n",
        "    for fila in matriz:\n",
        "        for valor in fila:\n",
        "            print(valor, end=\"\\t\")\n",
        "        print()\n",
        "\n",
        "if __name__ == \"__main__\":\n",
        "    matriz = crear_matriz()\n",
        "\n",
        "    print(\"Matriz resultante:\")\n",
        "    mostrar_matriz(matriz)\n"
      ]
    }
  ]
}