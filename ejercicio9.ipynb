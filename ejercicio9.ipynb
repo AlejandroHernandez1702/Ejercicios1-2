{
  "nbformat": 4,
  "nbformat_minor": 0,
  "metadata": {
    "colab": {
      "provenance": [],
      "authorship_tag": "ABX9TyP7yXIBgZhHGsWOyzKExOoV",
      "include_colab_link": true
    },
    "kernelspec": {
      "name": "python3",
      "display_name": "Python 3"
    },
    "language_info": {
      "name": "python"
    }
  },
  "cells": [
    {
      "cell_type": "markdown",
      "metadata": {
        "id": "view-in-github",
        "colab_type": "text"
      },
      "source": [
        "<a href=\"https://colab.research.google.com/github/AlejandroHernandez1702/Ejercicios1-2/blob/main/ejercicio9.ipynb\" target=\"_parent\"><img src=\"https://colab.research.google.com/assets/colab-badge.svg\" alt=\"Open In Colab\"/></a>"
      ]
    },
    {
      "cell_type": "code",
      "execution_count": 1,
      "metadata": {
        "colab": {
          "base_uri": "https://localhost:8080/"
        },
        "id": "AuuD_eSvOAG9",
        "outputId": "e12b5106-8ca1-4b6e-efc3-83aa2e20d686"
      },
      "outputs": [
        {
          "output_type": "stream",
          "name": "stdout",
          "text": [
            "Ingrese una frase: abecedario\n",
            "Ingrese un carácter específico: b\n",
            "Frase sin vocales: \n",
            "Se encontró el carácter 'b' en la frase.\n"
          ]
        }
      ],
      "source": [
        "frase = input(\"Ingrese una frase: \")\n",
        "caracter = input(\"Ingrese un carácter específico: \")\n",
        "\n",
        "frase = frase.lower()\n",
        "caracter = caracter.lower()\n",
        "frase_sin_vocales = \"\"\n",
        "encontrado = False\n",
        "i = 0\n",
        "\n",
        "while i < len(frase):\n",
        "    if frase[i] in \"aeiou\":\n",
        "         i += 1\n",
        "    elif frase[i] == caracter:\n",
        "        encontrado = True\n",
        "        break\n",
        "    else:\n",
        "        frase_sin_vocales += frase[i]\n",
        "        i += 1\n",
        "\n",
        "print(\"Frase sin vocales:\", frase_sin_vocales)\n",
        "\n",
        "if encontrado:\n",
        "    print(f\"Se encontró el carácter '{caracter}' en la frase.\")\n",
        "else:\n",
        "    print(f\"No se encontró el carácter '{caracter}' en la frase.\")"
      ]
    }
  ]
}