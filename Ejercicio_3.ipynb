{
  "nbformat": 4,
  "nbformat_minor": 0,
  "metadata": {
    "colab": {
      "provenance": [],
      "authorship_tag": "ABX9TyPu+/8BVvygOLPvT1S9IIHf",
      "include_colab_link": true
    },
    "kernelspec": {
      "name": "python3",
      "display_name": "Python 3"
    },
    "language_info": {
      "name": "python"
    }
  },
  "cells": [
    {
      "cell_type": "markdown",
      "metadata": {
        "id": "view-in-github",
        "colab_type": "text"
      },
      "source": [
        "<a href=\"https://colab.research.google.com/github/AlejandroHernandez1702/Ejercicios1-2/blob/main/Ejercicio_3.ipynb\" target=\"_parent\"><img src=\"https://colab.research.google.com/assets/colab-badge.svg\" alt=\"Open In Colab\"/></a>"
      ]
    },
    {
      "cell_type": "code",
      "execution_count": 1,
      "metadata": {
        "colab": {
          "base_uri": "https://localhost:8080/"
        },
        "id": "U_HeeEcr02d3",
        "outputId": "3643a51e-8371-411d-b9da-f10bd74b12f9"
      },
      "outputs": [
        {
          "output_type": "stream",
          "name": "stdout",
          "text": [
            "Ingrese el primer número: 9\n",
            "Ingrese el segundo número: 10\n",
            "Ingrese el tercer número: 2\n",
            "El número más grande es: 10\n"
          ]
        }
      ],
      "source": [
        "def main():\n",
        "    num1 = int(input(\"Ingrese el primer número: \"))\n",
        "    num2 = int(input(\"Ingrese el segundo número: \"))\n",
        "    num3 = int(input(\"Ingrese el tercer número: \"))\n",
        "\n",
        "    if num1 >= num2 and num1 >= num3:\n",
        "        max_num = num1\n",
        "    elif num2 >= num1 and num2 >= num3:\n",
        "        max_num = num2\n",
        "    else:\n",
        "        max_num = num3\n",
        "\n",
        "    print(f\"El número más grande es: {max_num}\")\n",
        "\n",
        "if __name__ == \"__main__\":\n",
        "    main()"
      ]
    }
  ]
}